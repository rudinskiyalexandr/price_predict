{
 "cells": [
  {
   "cell_type": "code",
   "execution_count": 2,
   "id": "8ff749fc",
   "metadata": {},
   "outputs": [],
   "source": [
    "import pandas as pd\n",
    "import pandas as pd\n",
    "import numpy as np\n",
    "import matplotlib.pyplot as plt\n",
    "import seaborn as sns\n",
    "from sklearn.model_selection import train_test_split, KFold\n",
    "from sklearn.metrics import mean_squared_error, mean_absolute_error\n",
    "import geopy\n",
    "from geopy.geocoders import Nominatim\n",
    "\n",
    "from catboost import CatBoostRegressor\n",
    "import optuna"
   ]
  },
  {
   "cell_type": "code",
   "execution_count": 3,
   "id": "b62e5569",
   "metadata": {},
   "outputs": [
    {
     "data": {
      "text/html": [
       "<div>\n",
       "<style scoped>\n",
       "    .dataframe tbody tr th:only-of-type {\n",
       "        vertical-align: middle;\n",
       "    }\n",
       "\n",
       "    .dataframe tbody tr th {\n",
       "        vertical-align: top;\n",
       "    }\n",
       "\n",
       "    .dataframe thead th {\n",
       "        text-align: right;\n",
       "    }\n",
       "</style>\n",
       "<table border=\"1\" class=\"dataframe\">\n",
       "  <thead>\n",
       "    <tr style=\"text-align: right;\">\n",
       "      <th></th>\n",
       "      <th>product_name</th>\n",
       "      <th>period</th>\n",
       "      <th>price</th>\n",
       "      <th>postcode</th>\n",
       "      <th>address_name</th>\n",
       "      <th>lat</th>\n",
       "      <th>lon</th>\n",
       "      <th>object_type</th>\n",
       "      <th>total_square</th>\n",
       "      <th>rooms</th>\n",
       "      <th>floor</th>\n",
       "      <th>city</th>\n",
       "      <th>settlement</th>\n",
       "      <th>district</th>\n",
       "      <th>area</th>\n",
       "      <th>description</th>\n",
       "      <th>source</th>\n",
       "    </tr>\n",
       "  </thead>\n",
       "  <tbody>\n",
       "    <tr>\n",
       "      <th>0</th>\n",
       "      <td>3-комнатная, 137 м²</td>\n",
       "      <td>NaN</td>\n",
       "      <td>63000000</td>\n",
       "      <td>127473.0</td>\n",
       "      <td>2-й Щемиловский переулок, 5а</td>\n",
       "      <td>55.778894</td>\n",
       "      <td>37.608844</td>\n",
       "      <td>Квартира</td>\n",
       "      <td>137.0</td>\n",
       "      <td>3.0</td>\n",
       "      <td>6.0</td>\n",
       "      <td>Москва</td>\n",
       "      <td>NaN</td>\n",
       "      <td>Тверской район</td>\n",
       "      <td>NaN</td>\n",
       "      <td>Просторная квартира свободной планировки с пан...</td>\n",
       "      <td>ЦИАН</td>\n",
       "    </tr>\n",
       "    <tr>\n",
       "      <th>1</th>\n",
       "      <td>Студия, 16,7 м²</td>\n",
       "      <td>NaN</td>\n",
       "      <td>3250000</td>\n",
       "      <td>108815.0</td>\n",
       "      <td>Харлампиева, 46</td>\n",
       "      <td>55.551025</td>\n",
       "      <td>37.313054</td>\n",
       "      <td>Квартира</td>\n",
       "      <td>16.7</td>\n",
       "      <td>NaN</td>\n",
       "      <td>1.0</td>\n",
       "      <td>Москва</td>\n",
       "      <td>NaN</td>\n",
       "      <td>Филимонковское поселение</td>\n",
       "      <td>NaN</td>\n",
       "      <td>ВНИМАНИЕ! ОЧЕНЬ ПРИВЛЕКАТЕЛЬНОЕ ПРЕ...</td>\n",
       "      <td>Домклик</td>\n",
       "    </tr>\n",
       "    <tr>\n",
       "      <th>2</th>\n",
       "      <td>3-комнатная, 76 м²</td>\n",
       "      <td>NaN</td>\n",
       "      <td>16004680</td>\n",
       "      <td>NaN</td>\n",
       "      <td>ЖК Прокшино, 8 к4</td>\n",
       "      <td>55.594802</td>\n",
       "      <td>37.431264</td>\n",
       "      <td>Квартира</td>\n",
       "      <td>76.0</td>\n",
       "      <td>3.0</td>\n",
       "      <td>6.0</td>\n",
       "      <td>Москва</td>\n",
       "      <td>NaN</td>\n",
       "      <td>Сосенское поселение</td>\n",
       "      <td>NaN</td>\n",
       "      <td>Apт.1684018. 0,01% - гибкая ипотека! Воспользу...</td>\n",
       "      <td>Яндекс.Недвижимость</td>\n",
       "    </tr>\n",
       "    <tr>\n",
       "      <th>3</th>\n",
       "      <td>1-комнатная, 24 м²</td>\n",
       "      <td>NaN</td>\n",
       "      <td>7841776</td>\n",
       "      <td>NaN</td>\n",
       "      <td>ЖК Прокшино, 6 к2</td>\n",
       "      <td>55.594332</td>\n",
       "      <td>37.428099</td>\n",
       "      <td>Квартира</td>\n",
       "      <td>24.0</td>\n",
       "      <td>1.0</td>\n",
       "      <td>10.0</td>\n",
       "      <td>Москва</td>\n",
       "      <td>NaN</td>\n",
       "      <td>Сосенское поселение</td>\n",
       "      <td>NaN</td>\n",
       "      <td>Продается однокомнатная квартира № 381 в новос...</td>\n",
       "      <td>Новострой-М</td>\n",
       "    </tr>\n",
       "    <tr>\n",
       "      <th>4</th>\n",
       "      <td>3-комнатная, 126 м²</td>\n",
       "      <td>NaN</td>\n",
       "      <td>120000000</td>\n",
       "      <td>121352.0</td>\n",
       "      <td>Давыдковская, 18</td>\n",
       "      <td>55.721097</td>\n",
       "      <td>37.464342</td>\n",
       "      <td>Квартира</td>\n",
       "      <td>126.0</td>\n",
       "      <td>3.0</td>\n",
       "      <td>16.0</td>\n",
       "      <td>Москва</td>\n",
       "      <td>NaN</td>\n",
       "      <td>Фили-Давыдково район</td>\n",
       "      <td>NaN</td>\n",
       "      <td>Шикарное предложение!\\nПродаётся трёхкомнатная...</td>\n",
       "      <td>Домклик</td>\n",
       "    </tr>\n",
       "    <tr>\n",
       "      <th>...</th>\n",
       "      <td>...</td>\n",
       "      <td>...</td>\n",
       "      <td>...</td>\n",
       "      <td>...</td>\n",
       "      <td>...</td>\n",
       "      <td>...</td>\n",
       "      <td>...</td>\n",
       "      <td>...</td>\n",
       "      <td>...</td>\n",
       "      <td>...</td>\n",
       "      <td>...</td>\n",
       "      <td>...</td>\n",
       "      <td>...</td>\n",
       "      <td>...</td>\n",
       "      <td>...</td>\n",
       "      <td>...</td>\n",
       "      <td>...</td>\n",
       "    </tr>\n",
       "    <tr>\n",
       "      <th>98817</th>\n",
       "      <td>2-комнатная, 42 м²</td>\n",
       "      <td>NaN</td>\n",
       "      <td>12183528</td>\n",
       "      <td>125212.0</td>\n",
       "      <td>Кронштадтский бульвар, 9 к1/3</td>\n",
       "      <td>55.842935</td>\n",
       "      <td>37.487680</td>\n",
       "      <td>Квартира</td>\n",
       "      <td>42.0</td>\n",
       "      <td>2.0</td>\n",
       "      <td>8.0</td>\n",
       "      <td>Москва</td>\n",
       "      <td>NaN</td>\n",
       "      <td>Головинский район</td>\n",
       "      <td>NaN</td>\n",
       "      <td>Продаётся 2-комн.квартира площадью 42.00 кв.м ...</td>\n",
       "      <td>Яндекс.Недвижимость</td>\n",
       "    </tr>\n",
       "    <tr>\n",
       "      <th>98818</th>\n",
       "      <td>2-комнатная, 63,5 м²</td>\n",
       "      <td>NaN</td>\n",
       "      <td>34925000</td>\n",
       "      <td>129090.0</td>\n",
       "      <td>Олимпийский проспект, вл10</td>\n",
       "      <td>55.777354</td>\n",
       "      <td>37.621747</td>\n",
       "      <td>Квартира</td>\n",
       "      <td>63.5</td>\n",
       "      <td>2.0</td>\n",
       "      <td>3.0</td>\n",
       "      <td>Москва</td>\n",
       "      <td>NaN</td>\n",
       "      <td>Мещанский район</td>\n",
       "      <td>NaN</td>\n",
       "      <td>С 1 октября повышение цен на 5% на апартаменты...</td>\n",
       "      <td>ЦИАН</td>\n",
       "    </tr>\n",
       "    <tr>\n",
       "      <th>98819</th>\n",
       "      <td>1-комнатная, 34,4 м²</td>\n",
       "      <td>NaN</td>\n",
       "      <td>10000000</td>\n",
       "      <td>117534.0</td>\n",
       "      <td>Чертановская улица, 53 к1</td>\n",
       "      <td>55.602124</td>\n",
       "      <td>37.591573</td>\n",
       "      <td>Квартира</td>\n",
       "      <td>34.4</td>\n",
       "      <td>1.0</td>\n",
       "      <td>3.0</td>\n",
       "      <td>Москва</td>\n",
       "      <td>NaN</td>\n",
       "      <td>Чертаново Южное район</td>\n",
       "      <td>NaN</td>\n",
       "      <td>Продажа идеальной однокомнатной квартиры. Безу...</td>\n",
       "      <td>Домклик</td>\n",
       "    </tr>\n",
       "    <tr>\n",
       "      <th>98820</th>\n",
       "      <td>3-комнатная, 56 м²</td>\n",
       "      <td>NaN</td>\n",
       "      <td>15999000</td>\n",
       "      <td>109518.0</td>\n",
       "      <td>1-й Грайвороновский проезд, 3</td>\n",
       "      <td>55.719431</td>\n",
       "      <td>37.724875</td>\n",
       "      <td>Квартира</td>\n",
       "      <td>56.0</td>\n",
       "      <td>3.0</td>\n",
       "      <td>11.0</td>\n",
       "      <td>Москва</td>\n",
       "      <td>NaN</td>\n",
       "      <td>Текстильщики район</td>\n",
       "      <td>NaN</td>\n",
       "      <td>Новостройка! Евротрешка , две раздельная комна...</td>\n",
       "      <td>Домклик</td>\n",
       "    </tr>\n",
       "    <tr>\n",
       "      <th>98821</th>\n",
       "      <td>2-комнатная, 55,1 м²</td>\n",
       "      <td>NaN</td>\n",
       "      <td>16750000</td>\n",
       "      <td>109316.0</td>\n",
       "      <td>Волгоградский проспект, 32/3 к6</td>\n",
       "      <td>55.721245</td>\n",
       "      <td>37.694176</td>\n",
       "      <td>Квартира</td>\n",
       "      <td>55.1</td>\n",
       "      <td>2.0</td>\n",
       "      <td>17.0</td>\n",
       "      <td>Москва</td>\n",
       "      <td>NaN</td>\n",
       "      <td>Южнопортовый район</td>\n",
       "      <td>NaN</td>\n",
       "      <td>!Двушка в бизнес-классе с шикарной планировкой...</td>\n",
       "      <td>ЦИАН</td>\n",
       "    </tr>\n",
       "  </tbody>\n",
       "</table>\n",
       "<p>98822 rows × 17 columns</p>\n",
       "</div>"
      ],
      "text/plain": [
       "               product_name  period      price  postcode  \\\n",
       "0       3-комнатная, 137 м²     NaN   63000000  127473.0   \n",
       "1           Студия, 16,7 м²     NaN    3250000  108815.0   \n",
       "2        3-комнатная, 76 м²     NaN   16004680       NaN   \n",
       "3        1-комнатная, 24 м²     NaN    7841776       NaN   \n",
       "4       3-комнатная, 126 м²     NaN  120000000  121352.0   \n",
       "...                     ...     ...        ...       ...   \n",
       "98817    2-комнатная, 42 м²     NaN   12183528  125212.0   \n",
       "98818  2-комнатная, 63,5 м²     NaN   34925000  129090.0   \n",
       "98819  1-комнатная, 34,4 м²     NaN   10000000  117534.0   \n",
       "98820    3-комнатная, 56 м²     NaN   15999000  109518.0   \n",
       "98821  2-комнатная, 55,1 м²     NaN   16750000  109316.0   \n",
       "\n",
       "                          address_name        lat        lon object_type  \\\n",
       "0         2-й Щемиловский переулок, 5а  55.778894  37.608844    Квартира   \n",
       "1                      Харлампиева, 46  55.551025  37.313054    Квартира   \n",
       "2                    ЖК Прокшино, 8 к4  55.594802  37.431264    Квартира   \n",
       "3                    ЖК Прокшино, 6 к2  55.594332  37.428099    Квартира   \n",
       "4                     Давыдковская, 18  55.721097  37.464342    Квартира   \n",
       "...                                ...        ...        ...         ...   \n",
       "98817    Кронштадтский бульвар, 9 к1/3  55.842935  37.487680    Квартира   \n",
       "98818       Олимпийский проспект, вл10  55.777354  37.621747    Квартира   \n",
       "98819        Чертановская улица, 53 к1  55.602124  37.591573    Квартира   \n",
       "98820    1-й Грайвороновский проезд, 3  55.719431  37.724875    Квартира   \n",
       "98821  Волгоградский проспект, 32/3 к6  55.721245  37.694176    Квартира   \n",
       "\n",
       "       total_square  rooms  floor    city settlement  \\\n",
       "0             137.0    3.0    6.0  Москва        NaN   \n",
       "1              16.7    NaN    1.0  Москва        NaN   \n",
       "2              76.0    3.0    6.0  Москва        NaN   \n",
       "3              24.0    1.0   10.0  Москва        NaN   \n",
       "4             126.0    3.0   16.0  Москва        NaN   \n",
       "...             ...    ...    ...     ...        ...   \n",
       "98817          42.0    2.0    8.0  Москва        NaN   \n",
       "98818          63.5    2.0    3.0  Москва        NaN   \n",
       "98819          34.4    1.0    3.0  Москва        NaN   \n",
       "98820          56.0    3.0   11.0  Москва        NaN   \n",
       "98821          55.1    2.0   17.0  Москва        NaN   \n",
       "\n",
       "                       district area  \\\n",
       "0                Тверской район  NaN   \n",
       "1      Филимонковское поселение  NaN   \n",
       "2           Сосенское поселение  NaN   \n",
       "3           Сосенское поселение  NaN   \n",
       "4          Фили-Давыдково район  NaN   \n",
       "...                         ...  ...   \n",
       "98817         Головинский район  NaN   \n",
       "98818           Мещанский район  NaN   \n",
       "98819     Чертаново Южное район  NaN   \n",
       "98820        Текстильщики район  NaN   \n",
       "98821        Южнопортовый район  NaN   \n",
       "\n",
       "                                             description               source  \n",
       "0      Просторная квартира свободной планировки с пан...                 ЦИАН  \n",
       "1                 ВНИМАНИЕ! ОЧЕНЬ ПРИВЛЕКАТЕЛЬНОЕ ПРЕ...              Домклик  \n",
       "2      Apт.1684018. 0,01% - гибкая ипотека! Воспользу...  Яндекс.Недвижимость  \n",
       "3      Продается однокомнатная квартира № 381 в новос...          Новострой-М  \n",
       "4      Шикарное предложение!\\nПродаётся трёхкомнатная...              Домклик  \n",
       "...                                                  ...                  ...  \n",
       "98817  Продаётся 2-комн.квартира площадью 42.00 кв.м ...  Яндекс.Недвижимость  \n",
       "98818  С 1 октября повышение цен на 5% на апартаменты...                 ЦИАН  \n",
       "98819  Продажа идеальной однокомнатной квартиры. Безу...              Домклик  \n",
       "98820  Новостройка! Евротрешка , две раздельная комна...              Домклик  \n",
       "98821  !Двушка в бизнес-классе с шикарной планировкой...                 ЦИАН  \n",
       "\n",
       "[98822 rows x 17 columns]"
      ]
     },
     "execution_count": 3,
     "metadata": {},
     "output_type": "execute_result"
    }
   ],
   "source": [
    "df = pd.read_csv('realty_data.csv')\n",
    "df"
   ]
  },
  {
   "cell_type": "markdown",
   "id": "dbe10bdc",
   "metadata": {},
   "source": [
    "- product_name - наименование объекта недвижимости\n",
    "- period - дата\n",
    "- postcode - почтовый индекс\n",
    "- address_name - адрес объекта\n",
    "- lat - координаты (широта)\n",
    "- lon - координаты (долгота)\n",
    "- object_type - тип объекта\n",
    "- total_square - общая площадь\n",
    "- rooms - количество комнат\n",
    "- floor - этаж\n",
    "- city - город\n",
    "- settlement - населенный пункт\n",
    "- district - район\n",
    "- area - микрорайон\n",
    "- description - текст объявления\n",
    "- source - источник"
   ]
  },
  {
   "cell_type": "code",
   "execution_count": 4,
   "id": "5b3ab1ff",
   "metadata": {},
   "outputs": [
    {
     "data": {
      "text/plain": [
       "product_name        0\n",
       "period          98822\n",
       "price               0\n",
       "postcode         5147\n",
       "address_name        1\n",
       "lat                 0\n",
       "lon                 0\n",
       "object_type         0\n",
       "total_square        0\n",
       "rooms            3982\n",
       "floor               0\n",
       "city             6894\n",
       "settlement      91928\n",
       "district        23711\n",
       "area            79324\n",
       "description       249\n",
       "source              0\n",
       "dtype: int64"
      ]
     },
     "execution_count": 4,
     "metadata": {},
     "output_type": "execute_result"
    }
   ],
   "source": [
    "df.isna().sum()"
   ]
  },
  {
   "cell_type": "code",
   "execution_count": 5,
   "id": "c05d5772",
   "metadata": {},
   "outputs": [
    {
     "name": "stdout",
     "output_type": "stream",
     "text": [
      "<class 'pandas.core.frame.DataFrame'>\n",
      "RangeIndex: 98822 entries, 0 to 98821\n",
      "Data columns (total 17 columns):\n",
      " #   Column        Non-Null Count  Dtype  \n",
      "---  ------        --------------  -----  \n",
      " 0   product_name  98822 non-null  object \n",
      " 1   period        0 non-null      float64\n",
      " 2   price         98822 non-null  int64  \n",
      " 3   postcode      93675 non-null  float64\n",
      " 4   address_name  98821 non-null  object \n",
      " 5   lat           98822 non-null  float64\n",
      " 6   lon           98822 non-null  float64\n",
      " 7   object_type   98822 non-null  object \n",
      " 8   total_square  98822 non-null  float64\n",
      " 9   rooms         94840 non-null  float64\n",
      " 10  floor         98822 non-null  float64\n",
      " 11  city          91928 non-null  object \n",
      " 12  settlement    6894 non-null   object \n",
      " 13  district      75111 non-null  object \n",
      " 14  area          19498 non-null  object \n",
      " 15  description   98573 non-null  object \n",
      " 16  source        98822 non-null  object \n",
      "dtypes: float64(7), int64(1), object(9)\n",
      "memory usage: 12.8+ MB\n"
     ]
    }
   ],
   "source": [
    "df.info()"
   ]
  },
  {
   "cell_type": "code",
   "execution_count": 6,
   "id": "278ebdf8",
   "metadata": {},
   "outputs": [],
   "source": [
    "df['lat'] = df['lat'].astype(str)\n",
    "df['lon'] = df['lon'].astype(str)\n",
    "\n",
    "df['postcode'] = df['postcode'].astype(str)"
   ]
  },
  {
   "cell_type": "markdown",
   "id": "56c92ff5",
   "metadata": {},
   "source": [
    "## Заполнение пропусков в геоданных "
   ]
  },
  {
   "cell_type": "code",
   "execution_count": 7,
   "id": "23726f91",
   "metadata": {},
   "outputs": [],
   "source": [
    "# postcode\n",
    "def NA(df,index,col,name_geopy):\n",
    "    geolocator = Nominatim(user_agent=\"geoapiExercises\")\n",
    "    for i in index:\n",
    "        Latitude = df['lat'].iloc[i]\n",
    "        Longitude =df['lon'].iloc[i]\n",
    "        location = geolocator.reverse(Latitude+\",\"+Longitude)\n",
    "        address = location.raw['address']\n",
    "        col.iloc[i] = address.get(name_geopy)\n",
    "    return df\n",
    "\n",
    "# district\n",
    "def NA_district(df,index,col,name_geopy_one,name_geopy_two):\n",
    "    geolocator = Nominatim(user_agent=\"geoapiExercises\")\n",
    "    for i in index:\n",
    "        Latitude = df['lat'].iloc[i]\n",
    "        Longitude =df['lon'].iloc[i]\n",
    "        location = geolocator.reverse(Latitude+\",\"+Longitude)\n",
    "        address = location.raw['address']\n",
    "        \n",
    "        if address.get(name_geopy_one):\n",
    "            col.iloc[i] = address.get(name_geopy_one)\n",
    "        elif address.get(name_geopy_two):\n",
    "            col.iloc[i] = address.get(name_geopy_two)\n",
    "        else:\n",
    "            continue\n",
    "        \n",
    "    return df\n",
    "\n",
    "# area\n",
    "def NA_area(df,index,col,name_geopy_one,name_geopy_two):\n",
    "    geolocator = Nominatim(user_agent=\"geoapiExercises\")\n",
    "    for i in index:\n",
    "        Latitude = df['lat'].iloc[i]\n",
    "        Longitude =df['lon'].iloc[i]\n",
    "        location = geolocator.reverse(Latitude+\",\"+Longitude)\n",
    "        address = location.raw['address']\n",
    "        \n",
    "        if address.get(name_geopy_one):\n",
    "            col.iloc[i] = address.get(name_geopy_one)\n",
    "        elif address.get(name_geopy_two):\n",
    "            col.iloc[i] = address.get(name_geopy_two)\n",
    "        else:\n",
    "            continue\n",
    "        \n",
    "    return df\n"
   ]
  },
  {
   "cell_type": "code",
   "execution_count": 8,
   "id": "3a766b71",
   "metadata": {},
   "outputs": [],
   "source": [
    "#  вызов функций\n",
    "# NA(df,index_na_postcode,  df['postcode'], 'postcode')\n",
    "# NA_district(df,index_na_district,  df['district'], 'suburb', 'municipality')\n",
    "# NA_area(df,index_na_area,  df['area'], 'residential', 'neighbourhood')\n",
    "\n",
    "# запись полученных результатов\n",
    "# df.to_csv('fill_df.csv', index = False)"
   ]
  },
  {
   "cell_type": "markdown",
   "id": "2ca15d07",
   "metadata": {},
   "source": [
    "##  Импорт заполненного файла "
   ]
  },
  {
   "cell_type": "code",
   "execution_count": 9,
   "id": "47650db6",
   "metadata": {},
   "outputs": [
    {
     "data": {
      "text/html": [
       "<div>\n",
       "<style scoped>\n",
       "    .dataframe tbody tr th:only-of-type {\n",
       "        vertical-align: middle;\n",
       "    }\n",
       "\n",
       "    .dataframe tbody tr th {\n",
       "        vertical-align: top;\n",
       "    }\n",
       "\n",
       "    .dataframe thead th {\n",
       "        text-align: right;\n",
       "    }\n",
       "</style>\n",
       "<table border=\"1\" class=\"dataframe\">\n",
       "  <thead>\n",
       "    <tr style=\"text-align: right;\">\n",
       "      <th></th>\n",
       "      <th>product_name</th>\n",
       "      <th>period</th>\n",
       "      <th>price</th>\n",
       "      <th>postcode</th>\n",
       "      <th>address_name</th>\n",
       "      <th>lat</th>\n",
       "      <th>lon</th>\n",
       "      <th>object_type</th>\n",
       "      <th>total_square</th>\n",
       "      <th>rooms</th>\n",
       "      <th>floor</th>\n",
       "      <th>city</th>\n",
       "      <th>settlement</th>\n",
       "      <th>district</th>\n",
       "      <th>area</th>\n",
       "      <th>description</th>\n",
       "      <th>source</th>\n",
       "    </tr>\n",
       "  </thead>\n",
       "  <tbody>\n",
       "    <tr>\n",
       "      <th>0</th>\n",
       "      <td>3-комнатная, 137 м²</td>\n",
       "      <td>NaN</td>\n",
       "      <td>63000000</td>\n",
       "      <td>127473.0</td>\n",
       "      <td>2-й Щемиловский переулок, 5а</td>\n",
       "      <td>55.778894</td>\n",
       "      <td>37.608844</td>\n",
       "      <td>Квартира</td>\n",
       "      <td>137.0</td>\n",
       "      <td>3.0</td>\n",
       "      <td>6.0</td>\n",
       "      <td>Москва</td>\n",
       "      <td>NaN</td>\n",
       "      <td>Тверской район</td>\n",
       "      <td>NaN</td>\n",
       "      <td>Просторная квартира свободной планировки с пан...</td>\n",
       "      <td>ЦИАН</td>\n",
       "    </tr>\n",
       "    <tr>\n",
       "      <th>1</th>\n",
       "      <td>Студия, 16,7 м²</td>\n",
       "      <td>NaN</td>\n",
       "      <td>3250000</td>\n",
       "      <td>108815.0</td>\n",
       "      <td>Харлампиева, 46</td>\n",
       "      <td>55.551025</td>\n",
       "      <td>37.313054</td>\n",
       "      <td>Квартира</td>\n",
       "      <td>16.7</td>\n",
       "      <td>NaN</td>\n",
       "      <td>1.0</td>\n",
       "      <td>Москва</td>\n",
       "      <td>NaN</td>\n",
       "      <td>Филимонковское поселение</td>\n",
       "      <td>NaN</td>\n",
       "      <td>ВНИМАНИЕ! ОЧЕНЬ ПРИВЛЕКАТЕЛЬНОЕ ПРЕ...</td>\n",
       "      <td>Домклик</td>\n",
       "    </tr>\n",
       "    <tr>\n",
       "      <th>2</th>\n",
       "      <td>3-комнатная, 76 м²</td>\n",
       "      <td>NaN</td>\n",
       "      <td>16004680</td>\n",
       "      <td>108802.0</td>\n",
       "      <td>ЖК Прокшино, 8 к4</td>\n",
       "      <td>55.594802</td>\n",
       "      <td>37.431264</td>\n",
       "      <td>Квартира</td>\n",
       "      <td>76.0</td>\n",
       "      <td>3.0</td>\n",
       "      <td>6.0</td>\n",
       "      <td>Москва</td>\n",
       "      <td>NaN</td>\n",
       "      <td>Сосенское поселение</td>\n",
       "      <td>NaN</td>\n",
       "      <td>Apт.1684018. 0,01% - гибкая ипотека! Воспользу...</td>\n",
       "      <td>Яндекс.Недвижимость</td>\n",
       "    </tr>\n",
       "    <tr>\n",
       "      <th>3</th>\n",
       "      <td>1-комнатная, 24 м²</td>\n",
       "      <td>NaN</td>\n",
       "      <td>7841776</td>\n",
       "      <td>108802.0</td>\n",
       "      <td>ЖК Прокшино, 6 к2</td>\n",
       "      <td>55.594332</td>\n",
       "      <td>37.428099</td>\n",
       "      <td>Квартира</td>\n",
       "      <td>24.0</td>\n",
       "      <td>1.0</td>\n",
       "      <td>10.0</td>\n",
       "      <td>Москва</td>\n",
       "      <td>NaN</td>\n",
       "      <td>Сосенское поселение</td>\n",
       "      <td>NaN</td>\n",
       "      <td>Продается однокомнатная квартира № 381 в новос...</td>\n",
       "      <td>Новострой-М</td>\n",
       "    </tr>\n",
       "    <tr>\n",
       "      <th>4</th>\n",
       "      <td>3-комнатная, 126 м²</td>\n",
       "      <td>NaN</td>\n",
       "      <td>120000000</td>\n",
       "      <td>121352.0</td>\n",
       "      <td>Давыдковская, 18</td>\n",
       "      <td>55.721097</td>\n",
       "      <td>37.464342</td>\n",
       "      <td>Квартира</td>\n",
       "      <td>126.0</td>\n",
       "      <td>3.0</td>\n",
       "      <td>16.0</td>\n",
       "      <td>Москва</td>\n",
       "      <td>NaN</td>\n",
       "      <td>Фили-Давыдково район</td>\n",
       "      <td>NaN</td>\n",
       "      <td>Шикарное предложение!\\nПродаётся трёхкомнатная...</td>\n",
       "      <td>Домклик</td>\n",
       "    </tr>\n",
       "  </tbody>\n",
       "</table>\n",
       "</div>"
      ],
      "text/plain": [
       "          product_name  period      price  postcode  \\\n",
       "0  3-комнатная, 137 м²     NaN   63000000  127473.0   \n",
       "1      Студия, 16,7 м²     NaN    3250000  108815.0   \n",
       "2   3-комнатная, 76 м²     NaN   16004680  108802.0   \n",
       "3   1-комнатная, 24 м²     NaN    7841776  108802.0   \n",
       "4  3-комнатная, 126 м²     NaN  120000000  121352.0   \n",
       "\n",
       "                   address_name        lat        lon object_type  \\\n",
       "0  2-й Щемиловский переулок, 5а  55.778894  37.608844    Квартира   \n",
       "1               Харлампиева, 46  55.551025  37.313054    Квартира   \n",
       "2             ЖК Прокшино, 8 к4  55.594802  37.431264    Квартира   \n",
       "3             ЖК Прокшино, 6 к2  55.594332  37.428099    Квартира   \n",
       "4              Давыдковская, 18  55.721097  37.464342    Квартира   \n",
       "\n",
       "   total_square  rooms  floor    city settlement                  district  \\\n",
       "0         137.0    3.0    6.0  Москва        NaN            Тверской район   \n",
       "1          16.7    NaN    1.0  Москва        NaN  Филимонковское поселение   \n",
       "2          76.0    3.0    6.0  Москва        NaN       Сосенское поселение   \n",
       "3          24.0    1.0   10.0  Москва        NaN       Сосенское поселение   \n",
       "4         126.0    3.0   16.0  Москва        NaN      Фили-Давыдково район   \n",
       "\n",
       "  area                                        description               source  \n",
       "0  NaN  Просторная квартира свободной планировки с пан...                 ЦИАН  \n",
       "1  NaN             ВНИМАНИЕ! ОЧЕНЬ ПРИВЛЕКАТЕЛЬНОЕ ПРЕ...              Домклик  \n",
       "2  NaN  Apт.1684018. 0,01% - гибкая ипотека! Воспользу...  Яндекс.Недвижимость  \n",
       "3  NaN  Продается однокомнатная квартира № 381 в новос...          Новострой-М  \n",
       "4  NaN  Шикарное предложение!\\nПродаётся трёхкомнатная...              Домклик  "
      ]
     },
     "execution_count": 9,
     "metadata": {},
     "output_type": "execute_result"
    }
   ],
   "source": [
    "df = pd.read_csv('fill_df.csv')\n",
    "df.head()"
   ]
  },
  {
   "cell_type": "markdown",
   "id": "dec00b5e",
   "metadata": {},
   "source": [
    "# EDA"
   ]
  },
  {
   "cell_type": "code",
   "execution_count": 10,
   "id": "77df9b5d",
   "metadata": {},
   "outputs": [
    {
     "data": {
      "text/plain": [
       "product_name        0\n",
       "period          98822\n",
       "price               0\n",
       "postcode            0\n",
       "address_name        1\n",
       "lat                 0\n",
       "lon                 0\n",
       "object_type         0\n",
       "total_square        0\n",
       "rooms            3982\n",
       "floor               0\n",
       "city             6894\n",
       "settlement      91928\n",
       "district        12087\n",
       "area            66102\n",
       "description       249\n",
       "source              0\n",
       "dtype: int64"
      ]
     },
     "execution_count": 10,
     "metadata": {},
     "output_type": "execute_result"
    }
   ],
   "source": [
    "df.isna().sum()"
   ]
  },
  {
   "cell_type": "code",
   "execution_count": 11,
   "id": "6f19d71a",
   "metadata": {},
   "outputs": [
    {
     "name": "stdout",
     "output_type": "stream",
     "text": [
      "<class 'pandas.core.frame.DataFrame'>\n",
      "RangeIndex: 98822 entries, 0 to 98821\n",
      "Data columns (total 17 columns):\n",
      " #   Column        Non-Null Count  Dtype  \n",
      "---  ------        --------------  -----  \n",
      " 0   product_name  98822 non-null  object \n",
      " 1   period        0 non-null      float64\n",
      " 2   price         98822 non-null  int64  \n",
      " 3   postcode      98822 non-null  float64\n",
      " 4   address_name  98821 non-null  object \n",
      " 5   lat           98822 non-null  float64\n",
      " 6   lon           98822 non-null  float64\n",
      " 7   object_type   98822 non-null  object \n",
      " 8   total_square  98822 non-null  float64\n",
      " 9   rooms         94840 non-null  float64\n",
      " 10  floor         98822 non-null  float64\n",
      " 11  city          91928 non-null  object \n",
      " 12  settlement    6894 non-null   object \n",
      " 13  district      86735 non-null  object \n",
      " 14  area          32720 non-null  object \n",
      " 15  description   98573 non-null  object \n",
      " 16  source        98822 non-null  object \n",
      "dtypes: float64(7), int64(1), object(9)\n",
      "memory usage: 12.8+ MB\n"
     ]
    }
   ],
   "source": [
    "df.info()"
   ]
  },
  {
   "cell_type": "code",
   "execution_count": 12,
   "id": "4a905ebb",
   "metadata": {},
   "outputs": [],
   "source": [
    "df['postcode'] = df['postcode'].astype(str)\n",
    "df['rooms'] = df['rooms'].astype(str)\n"
   ]
  },
  {
   "cell_type": "code",
   "execution_count": null,
   "id": "3b433d9b",
   "metadata": {},
   "outputs": [],
   "source": []
  },
  {
   "cell_type": "code",
   "execution_count": 13,
   "id": "6918e75c",
   "metadata": {},
   "outputs": [
    {
     "data": {
      "image/png": "[encoded data removed]",
      "text/plain": [
       "<Figure size 2000x1000 with 1 Axes>"
      ]
     },
     "metadata": {},
     "output_type": "display_data"
    }
   ],
   "source": [
    "plt.figure(figsize = (20,10))\n",
    "mean_price_rooms = (df.groupby(['rooms'])[['price']].mean().sort_values('price',ascending=False))\n",
    "mean_price_rooms['col'] = mean_price_rooms.index\n",
    "sns.barplot(data=mean_price_rooms, x = 'col', y = 'price')\n",
    "plt.ylabel('Стоимость', fontsize=16)\n",
    "plt.xlabel('Колличество комнат', fontsize=16)\n",
    "plt.title('Зависимость средней стоимости недвижимости от колличества комнат',fontsize=16)\n",
    "\n",
    "plt.show()"
   ]
  },
  {
   "cell_type": "markdown",
   "id": "2fa35109",
   "metadata": {},
   "source": [
    "- присутствует тренд возрастания стоимости недвижимости с возрастанием колличества комнат. \n",
    "- возможно присутсвуют выбросы или продажа отдельных сигментов недвижимости по специальным условиям. Необходима дополнительная аналитика "
   ]
  },
  {
   "cell_type": "code",
   "execution_count": 14,
   "id": "376bc079",
   "metadata": {},
   "outputs": [
    {
     "data": {
      "image/png": "[encoded data removed]",
      "text/plain": [
       "<Figure size 2800x1000 with 1 Axes>"
      ]
     },
     "metadata": {},
     "output_type": "display_data"
    }
   ],
   "source": [
    "plt.figure(figsize = (28,10))\n",
    "mean_price_city = (df.groupby(['city'])[['price']].mean().sort_values('price',ascending=False))\n",
    "mean_price_city['col'] = mean_price_city.index\n",
    "sns.barplot(data=mean_price_city, x = 'col', y = 'price')\n",
    "plt.ylabel('Стоимость', fontsize=20)\n",
    "plt.xlabel('Город', fontsize=20)\n",
    "plt.title('Средняя стоимости недвижимости по городам',fontsize=20)\n",
    "\n",
    "plt.show()"
   ]
  },
  {
   "cell_type": "markdown",
   "id": "64829495",
   "metadata": {},
   "source": [
    "- Из графика видно, что стоимость недвижимости в Москве существенно превышает стоимость недвидимости в других городах. \n",
    "- Исходя из этого, целесообразно выделить данный факт в отдельный признак в процессе feature engineering."
   ]
  },
  {
   "cell_type": "code",
   "execution_count": 15,
   "id": "dd70fd5d",
   "metadata": {},
   "outputs": [
    {
     "name": "stderr",
     "output_type": "stream",
     "text": [
      "C:\\Users\\sanek\\anaconda3\\lib\\site-packages\\seaborn\\distributions.py:2619: FutureWarning: `distplot` is a deprecated function and will be removed in a future version. Please adapt your code to use either `displot` (a figure-level function with similar flexibility) or `histplot` (an axes-level function for histograms).\n",
      "  warnings.warn(msg, FutureWarning)\n",
      "C:\\Users\\sanek\\anaconda3\\lib\\site-packages\\seaborn\\distributions.py:2619: FutureWarning: `distplot` is a deprecated function and will be removed in a future version. Please adapt your code to use either `displot` (a figure-level function with similar flexibility) or `histplot` (an axes-level function for histograms).\n",
      "  warnings.warn(msg, FutureWarning)\n"
     ]
    },
    {
     "data": {
      "image/png": "[encoded data removed]",
      "text/plain": [
       "<Figure size 900x300 with 2 Axes>"
      ]
     },
     "metadata": {},
     "output_type": "display_data"
    }
   ],
   "source": [
    "num_cols = ['floor', 'total_square']\n",
    "numeric_features = df[num_cols]\n",
    "\n",
    "numeric_features = numeric_features.stack().reset_index().rename(\n",
    "    columns={\"level_1\": \"Features\", 0: \"Value\"})\n",
    "\n",
    "ax = sns.FacetGrid(data=numeric_features, col=\"Features\",\n",
    "                   col_wrap=3, sharex=False, sharey=False)\n",
    "ax = ax.map(sns.distplot, \"Value\")\n",
    "\n",
    "plt.subplots_adjust(top=2, right=2)\n",
    "plt.show()"
   ]
  },
  {
   "cell_type": "code",
   "execution_count": 16,
   "id": "a947bd61",
   "metadata": {},
   "outputs": [],
   "source": [
    "def outliners(col):\n",
    "    IQR = df[col].quantile(0.75) - df[col].quantile(0.25)\n",
    "    perc75 = df[col].quantile(0.75)\n",
    "    perc25 = df[col].quantile(0.25)\n",
    "    l = perc25 - 1.5*IQR\n",
    "    r = perc75 + 1.5*IQR\n",
    "    print('Для {0}  IQR: {1}'.format(col,IQR),'границы [{0},{1}]'.format(l,r))\n",
    "    print('колличество выбросов:{}'.format(df[df[col]<l][col].count() + df[df[col]>r][col].count()))"
   ]
  },
  {
   "cell_type": "code",
   "execution_count": 17,
   "id": "668361a5",
   "metadata": {},
   "outputs": [
    {
     "name": "stdout",
     "output_type": "stream",
     "text": [
      "Для floor  IQR: 10.0 границы [-11.0,29.0]\n",
      "колличество выбросов:3224\n",
      "Для total_square  IQR: 35.6 границы [-13.300000000000004,129.10000000000002]\n",
      "колличество выбросов:5897\n"
     ]
    }
   ],
   "source": [
    "# логарифмирование численных признаков\n",
    "for i in num_cols:\n",
    "    outliners(i)"
   ]
  },
  {
   "cell_type": "code",
   "execution_count": 18,
   "id": "fcc7fb11",
   "metadata": {},
   "outputs": [],
   "source": [
    "# логарифмирование численных признаков\n",
    "for i in num_cols:\n",
    "    df[i] = df[i].apply(lambda x: np.log(1+x))"
   ]
  },
  {
   "cell_type": "code",
   "execution_count": 19,
   "id": "6cbaf1e0",
   "metadata": {},
   "outputs": [
    {
     "data": {
      "image/png": "[encoded data removed]",
      "text/plain": [
       "<Figure size 640x480 with 1 Axes>"
      ]
     },
     "metadata": {},
     "output_type": "display_data"
    }
   ],
   "source": [
    "df['total_square'].hist(bins = 20)\n",
    "plt.ylabel('Density', fontsize=14)\n",
    "plt.xlabel('square', fontsize=14)\n",
    "plt.show()"
   ]
  },
  {
   "cell_type": "code",
   "execution_count": 20,
   "id": "65cfd3e4",
   "metadata": {},
   "outputs": [
    {
     "data": {
      "image/png": "[encoded data removed]",
      "text/plain": [
       "<Figure size 640x480 with 1 Axes>"
      ]
     },
     "metadata": {},
     "output_type": "display_data"
    }
   ],
   "source": [
    "df['floor'].hist(bins = 10)\n",
    "plt.ylabel('Density', fontsize=14)\n",
    "plt.xlabel('floor', fontsize=14)\n",
    "plt.show()"
   ]
  },
  {
   "cell_type": "code",
   "execution_count": null,
   "id": "221dc10a",
   "metadata": {},
   "outputs": [],
   "source": []
  },
  {
   "cell_type": "markdown",
   "id": "88761344",
   "metadata": {},
   "source": [
    "## Feature engineering"
   ]
  },
  {
   "cell_type": "markdown",
   "id": "bd4ffe00",
   "metadata": {},
   "source": [
    "### _удаление колонок_ \n"
   ]
  },
  {
   "cell_type": "code",
   "execution_count": 21,
   "id": "2d7a7131",
   "metadata": {},
   "outputs": [],
   "source": [
    "df.drop(['period','lat', 'lon','description'], inplace = True, axis = 1 )"
   ]
  },
  {
   "cell_type": "markdown",
   "id": "ad1a046b",
   "metadata": {},
   "source": [
    "### _добавление новых признаков_ "
   ]
  },
  {
   "cell_type": "code",
   "execution_count": 22,
   "id": "840ff178",
   "metadata": {},
   "outputs": [],
   "source": [
    "df['Moscow'] = df['city'].apply(lambda x: 1 if x == 'Москва' else 0)"
   ]
  },
  {
   "cell_type": "markdown",
   "id": "97112841",
   "metadata": {},
   "source": [
    "# Разбиение данных "
   ]
  },
  {
   "cell_type": "code",
   "execution_count": 23,
   "id": "8d971283",
   "metadata": {},
   "outputs": [],
   "source": [
    "df['address_name'] = df['address_name'].astype(str)\n",
    "df['city'] = df['city'].astype(str)\n",
    "df['settlement'] = df['settlement'].astype(str)\n",
    "df['district'] = df['district'].astype(str)\n",
    "df['area'] = df['area'].astype(str)\n",
    "df['product_name'] = df['product_name'].astype(str)\n",
    "df['postcode'] = df['postcode'].astype(str)\n",
    "df['rooms'] = df['rooms'].astype(str)\n",
    "df['object_type'] = df['object_type'].astype(str)\n",
    "df['source'] = df['source'].astype(str)"
   ]
  },
  {
   "cell_type": "code",
   "execution_count": 24,
   "id": "d292beed",
   "metadata": {},
   "outputs": [],
   "source": [
    "x = df.drop('price', axis = 1)\n",
    "y = df[['price']]\n",
    "x_train, x_test, y_train, y_test = train_test_split(x,y)"
   ]
  },
  {
   "cell_type": "code",
   "execution_count": 25,
   "id": "c9fee0b0",
   "metadata": {},
   "outputs": [],
   "source": [
    "cat_features = ['product_name', 'postcode', 'address_name', 'object_type',\n",
    "        'rooms', 'city', 'settlement', 'district',\n",
    "       'area',  'source']"
   ]
  },
  {
   "cell_type": "code",
   "execution_count": 26,
   "id": "7b49ba90",
   "metadata": {},
   "outputs": [
    {
     "data": {
      "text/plain": [
       "product_name    0\n",
       "price           0\n",
       "postcode        0\n",
       "address_name    0\n",
       "object_type     0\n",
       "total_square    0\n",
       "rooms           0\n",
       "floor           0\n",
       "city            0\n",
       "settlement      0\n",
       "district        0\n",
       "area            0\n",
       "source          0\n",
       "Moscow          0\n",
       "dtype: int64"
      ]
     },
     "execution_count": 26,
     "metadata": {},
     "output_type": "execute_result"
    }
   ],
   "source": [
    "df.isna().sum()"
   ]
  },
  {
   "cell_type": "code",
   "execution_count": 27,
   "id": "8d3046ab",
   "metadata": {},
   "outputs": [
    {
     "name": "stdout",
     "output_type": "stream",
     "text": [
      "<class 'pandas.core.frame.DataFrame'>\n",
      "RangeIndex: 98822 entries, 0 to 98821\n",
      "Data columns (total 14 columns):\n",
      " #   Column        Non-Null Count  Dtype  \n",
      "---  ------        --------------  -----  \n",
      " 0   product_name  98822 non-null  object \n",
      " 1   price         98822 non-null  int64  \n",
      " 2   postcode      98822 non-null  object \n",
      " 3   address_name  98822 non-null  object \n",
      " 4   object_type   98822 non-null  object \n",
      " 5   total_square  98822 non-null  float64\n",
      " 6   rooms         98822 non-null  object \n",
      " 7   floor         98822 non-null  float64\n",
      " 8   city          98822 non-null  object \n",
      " 9   settlement    98822 non-null  object \n",
      " 10  district      98822 non-null  object \n",
      " 11  area          98822 non-null  object \n",
      " 12  source        98822 non-null  object \n",
      " 13  Moscow        98822 non-null  int64  \n",
      "dtypes: float64(2), int64(2), object(10)\n",
      "memory usage: 10.6+ MB\n"
     ]
    }
   ],
   "source": [
    "df.info()"
   ]
  },
  {
   "cell_type": "markdown",
   "id": "d3c1fd1a",
   "metadata": {},
   "source": [
    "# Model"
   ]
  },
  {
   "cell_type": "markdown",
   "id": "8d74c821",
   "metadata": {},
   "source": [
    "## _baseline_"
   ]
  },
  {
   "cell_type": "code",
   "execution_count": 28,
   "id": "a76e195d",
   "metadata": {},
   "outputs": [
    {
     "data": {
      "text/plain": [
       "3845103.4438707163"
      ]
     },
     "execution_count": 28,
     "metadata": {},
     "output_type": "execute_result"
    }
   ],
   "source": [
    "model = CatBoostRegressor( cat_features =cat_features)\n",
    "model.fit(x_train, y_train,  verbose = 0, cat_features = cat_features)\n",
    "mean_absolute_error(y_test, model.predict(x_test) ) "
   ]
  },
  {
   "cell_type": "code",
   "execution_count": 28,
   "id": "faea0cbd",
   "metadata": {},
   "outputs": [
    {
     "data": {
      "text/html": [
       "<div>\n",
       "<style scoped>\n",
       "    .dataframe tbody tr th:only-of-type {\n",
       "        vertical-align: middle;\n",
       "    }\n",
       "\n",
       "    .dataframe tbody tr th {\n",
       "        vertical-align: top;\n",
       "    }\n",
       "\n",
       "    .dataframe thead th {\n",
       "        text-align: right;\n",
       "    }\n",
       "</style>\n",
       "<table border=\"1\" class=\"dataframe\">\n",
       "  <thead>\n",
       "    <tr style=\"text-align: right;\">\n",
       "      <th></th>\n",
       "      <th>Feature Id</th>\n",
       "      <th>Importances</th>\n",
       "    </tr>\n",
       "  </thead>\n",
       "  <tbody>\n",
       "    <tr>\n",
       "      <th>0</th>\n",
       "      <td>total_square</td>\n",
       "      <td>54.775036</td>\n",
       "    </tr>\n",
       "    <tr>\n",
       "      <th>1</th>\n",
       "      <td>district</td>\n",
       "      <td>15.454857</td>\n",
       "    </tr>\n",
       "    <tr>\n",
       "      <th>2</th>\n",
       "      <td>postcode</td>\n",
       "      <td>9.693825</td>\n",
       "    </tr>\n",
       "    <tr>\n",
       "      <th>3</th>\n",
       "      <td>floor</td>\n",
       "      <td>4.819550</td>\n",
       "    </tr>\n",
       "    <tr>\n",
       "      <th>4</th>\n",
       "      <td>area</td>\n",
       "      <td>4.369881</td>\n",
       "    </tr>\n",
       "    <tr>\n",
       "      <th>5</th>\n",
       "      <td>address_name</td>\n",
       "      <td>3.497916</td>\n",
       "    </tr>\n",
       "    <tr>\n",
       "      <th>6</th>\n",
       "      <td>rooms</td>\n",
       "      <td>2.861235</td>\n",
       "    </tr>\n",
       "    <tr>\n",
       "      <th>7</th>\n",
       "      <td>source</td>\n",
       "      <td>1.422781</td>\n",
       "    </tr>\n",
       "    <tr>\n",
       "      <th>8</th>\n",
       "      <td>city</td>\n",
       "      <td>1.399420</td>\n",
       "    </tr>\n",
       "    <tr>\n",
       "      <th>9</th>\n",
       "      <td>settlement</td>\n",
       "      <td>1.029623</td>\n",
       "    </tr>\n",
       "    <tr>\n",
       "      <th>10</th>\n",
       "      <td>product_name</td>\n",
       "      <td>0.507886</td>\n",
       "    </tr>\n",
       "    <tr>\n",
       "      <th>11</th>\n",
       "      <td>Moscow</td>\n",
       "      <td>0.167992</td>\n",
       "    </tr>\n",
       "    <tr>\n",
       "      <th>12</th>\n",
       "      <td>object_type</td>\n",
       "      <td>0.000000</td>\n",
       "    </tr>\n",
       "  </tbody>\n",
       "</table>\n",
       "</div>"
      ],
      "text/plain": [
       "      Feature Id  Importances\n",
       "0   total_square    54.775036\n",
       "1       district    15.454857\n",
       "2       postcode     9.693825\n",
       "3          floor     4.819550\n",
       "4           area     4.369881\n",
       "5   address_name     3.497916\n",
       "6          rooms     2.861235\n",
       "7         source     1.422781\n",
       "8           city     1.399420\n",
       "9     settlement     1.029623\n",
       "10  product_name     0.507886\n",
       "11        Moscow     0.167992\n",
       "12   object_type     0.000000"
      ]
     },
     "execution_count": 28,
     "metadata": {},
     "output_type": "execute_result"
    }
   ],
   "source": [
    "model.get_feature_importance(prettified=True)"
   ]
  },
  {
   "cell_type": "markdown",
   "id": "04fb81ce",
   "metadata": {},
   "source": [
    "## Optuna"
   ]
  },
  {
   "cell_type": "code",
   "execution_count": 105,
   "id": "8a225aef",
   "metadata": {},
   "outputs": [],
   "source": [
    "def objective(trial, X, y):\n",
    "    \n",
    "    param_grid = {\n",
    "        \"iterations\": 20000,\n",
    "        \"learning_rate\": trial.suggest_float(\"learning_rate\", 0.01, 0.1),\n",
    "        \"depth\": trial.suggest_int(\"depth\", 3, 10, step=2),\n",
    "        \"min_data_in_leaf\": trial.suggest_int(\"min_data_in_leaf\", 5, 100, step=10),\n",
    "        \"l2_leaf_reg\": trial.suggest_int(\"l2_leaf_reg\",2,40,5)\n",
    "    }\n",
    "    \n",
    "    cv = KFold(n_splits=3, shuffle=True, random_state=42)\n",
    "    cv_predicts = np.empty(3)\n",
    "    \n",
    "    for idx, (train_idx, test_idx) in enumerate(cv.split(X, y)):\n",
    "        X_train, X_test = X.iloc[train_idx], X.iloc[test_idx]\n",
    "        y_train, y_test = y.iloc[train_idx], y.iloc[test_idx]\n",
    "        model = CatBoostRegressor(**param_grid)\n",
    "        model.fit(X_train,y_train,eval_set=[(X_test, y_test)],verbose=0,cat_features = cat_features)\n",
    "        preds = model.predict(X_test)        \n",
    "        cv_predicts[idx] = mean_absolute_error(y_test, preds)\n",
    "\n",
    "    return  np.mean(cv_predicts)"
   ]
  },
  {
   "cell_type": "code",
   "execution_count": 116,
   "id": "e0ab411d",
   "metadata": {},
   "outputs": [],
   "source": [
    "#study = optuna.create_study(direction=\"minimize\")\n",
    "#func = lambda trial: objective(trial, x_train, y_train)\n",
    "#study.optimize(func, n_trials=3, show_progress_bar=True)\n",
    "#best_params_cat = study.best_params"
   ]
  },
  {
   "cell_type": "code",
   "execution_count": 31,
   "id": "7437b522",
   "metadata": {},
   "outputs": [],
   "source": [
    "#study.best_params\n",
    "best_params_cat = {'learning_rate': 0.02447502794754966, \n",
    "                   'depth': 9, \n",
    "                   'min_data_in_leaf': 85, \n",
    "                   'l2_leaf_reg': 27,\n",
    "                  \"iterations\": 20000}\n"
   ]
  },
  {
   "cell_type": "code",
   "execution_count": 32,
   "id": "d3c5a767",
   "metadata": {},
   "outputs": [
    {
     "name": "stdout",
     "output_type": "stream",
     "text": [
      "Oшибка предсказания модели = 3396935.202479545 руб\n"
     ]
    }
   ],
   "source": [
    "model = CatBoostRegressor( **best_params_cat, cat_features =cat_features)\n",
    "model.fit(x_train, y_train,  verbose = 0, cat_features = cat_features)\n",
    "loss = mean_absolute_error(y_test, model.predict(x_test) ) \n",
    "print('Oшибка предсказания модели = {0} руб'.format(loss))\n"
   ]
  },
  {
   "cell_type": "markdown",
   "id": "bd1c01d0",
   "metadata": {},
   "source": [
    "- В процессе моделирования процесса ценообразования стоимости недвижимости была разработана регрессионная модель, со средней разность между спрогнозированным и фактическим значениями цены равной 3396935 рублей\n",
    "-  Ключивыми факторами в процессе ценообразования стоимости недвижимости являются: общая площадь недвижимости и место расположения объекта.\n",
    "- На диаграмме ниже приведен вклад каждого из признаков модели в процесс ценообразования стоимости недвижимости.\n",
    "\n",
    "- В дальнейшем целесообразно применить кластеризацию для разбиения объектов недвижимости на группы и каждую группу рассматриваить независимо от других групп."
   ]
  },
  {
   "cell_type": "code",
   "execution_count": 33,
   "id": "f16a3211",
   "metadata": {},
   "outputs": [
    {
     "data": {
      "text/plain": [
       "(array([ 0., 10., 20., 30., 40., 50., 60.]),\n",
       " [Text(0, 0.0, '0'),\n",
       "  Text(0, 10.0, '10'),\n",
       "  Text(0, 20.0, '20'),\n",
       "  Text(0, 30.0, '30'),\n",
       "  Text(0, 40.0, '40'),\n",
       "  Text(0, 50.0, '50'),\n",
       "  Text(0, 60.0, '60')])"
      ]
     },
     "execution_count": 33,
     "metadata": {},
     "output_type": "execute_result"
    },
    {
     "data": {
      "image/png": "[encoded data removed]",
      "text/plain": [
       "<Figure size 800x400 with 1 Axes>"
      ]
     },
     "metadata": {},
     "output_type": "display_data"
    }
   ],
   "source": [
    "cat_wine_imp = pd.Series(model.get_feature_importance(), x_test.columns)\n",
    "fig, ax = plt.subplots(figsize=(8,4))\n",
    "cat_wine_imp.plot.bar(ax=ax)\n",
    "ax.set_title(\"Важность признаков\")\n",
    "fig.tight_layout()\n",
    "plt.xticks(fontsize=14)\n",
    "plt.yticks(fontsize=14)"
   ]
  },
  {
   "cell_type": "code",
   "execution_count": null,
   "id": "2df27ec0",
   "metadata": {},
   "outputs": [],
   "source": []
  }
 ],
 "metadata": {
  "kernelspec": {
   "display_name": "Python 3 (ipykernel)",
   "language": "python",
   "name": "python3"
  },
  "language_info": {
   "codemirror_mode": {
    "name": "ipython",
    "version": 3
   },
   "file_extension": ".py",
   "mimetype": "text/x-python",
   "name": "python",
   "nbconvert_exporter": "python",
   "pygments_lexer": "ipython3",
   "version": "3.9.13"
  }
 },
 "nbformat": 4,
 "nbformat_minor": 5
}
